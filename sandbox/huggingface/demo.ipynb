{
 "cells": [
  {
   "metadata": {
    "ExecuteTime": {
     "end_time": "2025-01-21T04:14:21.471174Z",
     "start_time": "2025-01-21T04:14:19.122733Z"
    }
   },
   "cell_type": "code",
   "source": "from transformers import FlaxAutoModelForCausalLM, AutoTokenizer",
   "id": "a44d491162a02dcd",
   "outputs": [],
   "execution_count": 1
  },
  {
   "metadata": {
    "ExecuteTime": {
     "end_time": "2025-01-21T04:15:26.528719Z",
     "start_time": "2025-01-21T04:15:19.187031Z"
    }
   },
   "cell_type": "code",
   "source": "model = FlaxAutoModelForCausalLM.from_pretrained(\"openai-community/gpt2\")",
   "id": "49f0d37dc0f9c92c",
   "outputs": [
    {
     "data": {
      "text/plain": [
       "flax_model.msgpack:   0%|          | 0.00/498M [00:00<?, ?B/s]"
      ],
      "application/vnd.jupyter.widget-view+json": {
       "version_major": 2,
       "version_minor": 0,
       "model_id": "63f9f192c15c46769660144b23e2e7c4"
      }
     },
     "metadata": {},
     "output_type": "display_data"
    }
   ],
   "execution_count": 3
  },
  {
   "metadata": {
    "ExecuteTime": {
     "end_time": "2025-01-21T04:18:57.014921Z",
     "start_time": "2025-01-21T04:18:57.013122Z"
    }
   },
   "cell_type": "code",
   "source": "params = model.params",
   "id": "297d3f5178b938f8",
   "outputs": [],
   "execution_count": 4
  },
  {
   "metadata": {},
   "cell_type": "code",
   "outputs": [],
   "execution_count": null,
   "source": "",
   "id": "9f1822628235d47a"
  }
 ],
 "metadata": {
  "kernelspec": {
   "name": "python3",
   "language": "python",
   "display_name": "Python 3 (ipykernel)"
  }
 },
 "nbformat": 5,
 "nbformat_minor": 9
}
